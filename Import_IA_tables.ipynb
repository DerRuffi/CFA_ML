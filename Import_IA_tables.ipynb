{
 "cells": [
  {
   "cell_type": "code",
   "execution_count": 32,
   "metadata": {},
   "outputs": [],
   "source": [
    "import pandas as pd\n",
    "import numpy as np\n",
    "import os"
   ]
  },
  {
   "cell_type": "code",
   "execution_count": 33,
   "metadata": {},
   "outputs": [],
   "source": [
    "name = \"A359_MSN216_S18LHS_SS\"\n",
    "folder_in = '01_Input/'\n",
    "folder_out = '02_Data/'\n",
    "folder_in = folder_in + name\n",
    "folder_out = folder_out + name\n",
    "folder_tables = folder_in + '/tables'"
   ]
  },
  {
   "cell_type": "code",
   "execution_count": 34,
   "metadata": {},
   "outputs": [],
   "source": [
    "df_SEA2SE = pd.read_excel(folder_tables + '/SEA2SE_SS_MSN321.xlsx')\n",
    "df_SEA = pd.read_excel(folder_tables + '/SEA_frame.xlsx')\n",
    "df_SEFR = pd.read_excel(folder_tables + '/SE_frame.xlsx')\n",
    "df_mp = pd.read_excel(folder_tables + '/metal_profile.xlsx')\n",
    "df_cp = pd.read_excel(folder_tables + '/comp_profile.xlsx')\n",
    "df_st = pd.read_excel(folder_tables + '/stacking.xlsx')\n",
    "df_jt = pd.read_excel(folder_tables + '/joint_table.xlsx')\n",
    "#df_fa = pd.read_excel(folder_tables + '/fastener_system.xlsx')\n",
    "#df_stab = pd.read_excel(folder_tables + '/stabilo_table.xlsx')"
   ]
  },
  {
   "cell_type": "code",
   "execution_count": 35,
   "metadata": {},
   "outputs": [],
   "source": [
    "df1 = df_SEA2SE.loc[df_SEA2SE['param'] == 'SE_Frame'].melt(id_vars=['P_pos', 'param'])\n",
    "df1.rename(columns={'value': 'AIRBUSSE_FRAME', 'variable': 'Frame'}, inplace=True)\n",
    "df2 = df_SEA2SE.loc[df_SEA2SE['param'] == 'SEA_Frame'].melt(id_vars=['P_pos', 'param'])\n",
    "df2.rename(columns={'value': 'SEA', 'variable': 'Frame'}, inplace=True)\n",
    "df3 = pd.merge(df2,df1,how='left',on=['Frame', 'P_pos'])\n",
    "df3 = df3[pd.notnull(df3['SEA'])]\n",
    "df3 = df3[['SEA', 'AIRBUSSE_FRAME']]\n",
    "df_SEA2SE = df3.reset_index(drop=True)"
   ]
  },
  {
   "cell_type": "code",
   "execution_count": 36,
   "metadata": {},
   "outputs": [
    {
     "data": {
      "text/html": [
       "<div>\n",
       "<style scoped>\n",
       "    .dataframe tbody tr th:only-of-type {\n",
       "        vertical-align: middle;\n",
       "    }\n",
       "\n",
       "    .dataframe tbody tr th {\n",
       "        vertical-align: top;\n",
       "    }\n",
       "\n",
       "    .dataframe thead th {\n",
       "        text-align: right;\n",
       "    }\n",
       "</style>\n",
       "<table border=\"1\" class=\"dataframe\">\n",
       "  <thead>\n",
       "    <tr style=\"text-align: right;\">\n",
       "      <th></th>\n",
       "      <th>AIRBUSSEA_FRAME</th>\n",
       "      <th>CLIPPROFILE</th>\n",
       "      <th>CLIPLENGTH (mm)</th>\n",
       "      <th>CLIPPOSITIONX (mm)</th>\n",
       "      <th>JOINT_FRA_CLIP</th>\n",
       "      <th>FRA_CLIP_HEADSIDE</th>\n",
       "      <th>JOINT_FRACLIP_SKIN</th>\n",
       "      <th>FRACLIP_SKIN_HEADSIDE</th>\n",
       "      <th>LOWERSTAB</th>\n",
       "      <th>LOWERSTABPOSITIONX (mm)</th>\n",
       "      <th>UPPERSTAB</th>\n",
       "      <th>UPPERSTABPOSITIONX (mm)</th>\n",
       "    </tr>\n",
       "  </thead>\n",
       "  <tbody>\n",
       "    <tr>\n",
       "      <th>32</th>\n",
       "      <td>FRA-Fra-FR072-ST008-009</td>\n",
       "      <td>Clip_C72_P8</td>\n",
       "      <td>208.67</td>\n",
       "      <td>0</td>\n",
       "      <td>FA_C72P_8</td>\n",
       "      <td>Frame</td>\n",
       "      <td>FP_C72P_8</td>\n",
       "      <td>Skin</td>\n",
       "      <td>Dummy Stabilo</td>\n",
       "      <td>208.67</td>\n",
       "      <td>Dummy Stabilo</td>\n",
       "      <td>0.0</td>\n",
       "    </tr>\n",
       "    <tr>\n",
       "      <th>33</th>\n",
       "      <td>FRA-Fra-FR072-ST009-010</td>\n",
       "      <td>Clip_C72_P9</td>\n",
       "      <td>220.00</td>\n",
       "      <td>0</td>\n",
       "      <td>FA_C72P_9</td>\n",
       "      <td>Frame</td>\n",
       "      <td>FP_C72P_9</td>\n",
       "      <td>Skin</td>\n",
       "      <td>Dummy Stabilo</td>\n",
       "      <td>220.00</td>\n",
       "      <td>Dummy Stabilo</td>\n",
       "      <td>0.0</td>\n",
       "    </tr>\n",
       "    <tr>\n",
       "      <th>34</th>\n",
       "      <td>FRA-Fra-FR072-ST010-011</td>\n",
       "      <td>Clip_C72_P10</td>\n",
       "      <td>208.67</td>\n",
       "      <td>0</td>\n",
       "      <td>FA_C72P_10</td>\n",
       "      <td>Frame</td>\n",
       "      <td>FP_C72P_10</td>\n",
       "      <td>Skin</td>\n",
       "      <td>Lower_Stabilo_C72P10</td>\n",
       "      <td>208.67</td>\n",
       "      <td>Dummy Stabilo</td>\n",
       "      <td>0.0</td>\n",
       "    </tr>\n",
       "    <tr>\n",
       "      <th>35</th>\n",
       "      <td>FRA-Fra-FR072-ST011-012</td>\n",
       "      <td>Clip_C72_P11</td>\n",
       "      <td>208.67</td>\n",
       "      <td>0</td>\n",
       "      <td>FA_C72P_11</td>\n",
       "      <td>Frame</td>\n",
       "      <td>FP_C72P_11</td>\n",
       "      <td>Skin</td>\n",
       "      <td>Lower_Stabilo_C72P11</td>\n",
       "      <td>208.67</td>\n",
       "      <td>Lower_Stabilo_C72P10</td>\n",
       "      <td>0.0</td>\n",
       "    </tr>\n",
       "    <tr>\n",
       "      <th>36</th>\n",
       "      <td>FRA-Fra-FR072-ST012-013</td>\n",
       "      <td>Clip_C72_P12</td>\n",
       "      <td>208.67</td>\n",
       "      <td>0</td>\n",
       "      <td>FA_C72P_12</td>\n",
       "      <td>Frame</td>\n",
       "      <td>FP_C72P_12</td>\n",
       "      <td>Skin</td>\n",
       "      <td>Lower_Stabilo_C72P12</td>\n",
       "      <td>208.67</td>\n",
       "      <td>Lower_Stabilo_C72P11</td>\n",
       "      <td>0.0</td>\n",
       "    </tr>\n",
       "  </tbody>\n",
       "</table>\n",
       "</div>"
      ],
      "text/plain": [
       "            AIRBUSSEA_FRAME   CLIPPROFILE  CLIPLENGTH (mm)  \\\n",
       "32  FRA-Fra-FR072-ST008-009   Clip_C72_P8           208.67   \n",
       "33  FRA-Fra-FR072-ST009-010   Clip_C72_P9           220.00   \n",
       "34  FRA-Fra-FR072-ST010-011  Clip_C72_P10           208.67   \n",
       "35  FRA-Fra-FR072-ST011-012  Clip_C72_P11           208.67   \n",
       "36  FRA-Fra-FR072-ST012-013  Clip_C72_P12           208.67   \n",
       "\n",
       "    CLIPPOSITIONX (mm) JOINT_FRA_CLIP FRA_CLIP_HEADSIDE JOINT_FRACLIP_SKIN  \\\n",
       "32                   0      FA_C72P_8             Frame          FP_C72P_8   \n",
       "33                   0      FA_C72P_9             Frame          FP_C72P_9   \n",
       "34                   0     FA_C72P_10             Frame         FP_C72P_10   \n",
       "35                   0     FA_C72P_11             Frame         FP_C72P_11   \n",
       "36                   0     FA_C72P_12             Frame         FP_C72P_12   \n",
       "\n",
       "   FRACLIP_SKIN_HEADSIDE             LOWERSTAB  LOWERSTABPOSITIONX (mm)  \\\n",
       "32                  Skin         Dummy Stabilo                   208.67   \n",
       "33                  Skin         Dummy Stabilo                   220.00   \n",
       "34                  Skin  Lower_Stabilo_C72P10                   208.67   \n",
       "35                  Skin  Lower_Stabilo_C72P11                   208.67   \n",
       "36                  Skin  Lower_Stabilo_C72P12                   208.67   \n",
       "\n",
       "               UPPERSTAB  UPPERSTABPOSITIONX (mm)  \n",
       "32         Dummy Stabilo                      0.0  \n",
       "33         Dummy Stabilo                      0.0  \n",
       "34         Dummy Stabilo                      0.0  \n",
       "35  Lower_Stabilo_C72P10                      0.0  \n",
       "36  Lower_Stabilo_C72P11                      0.0  "
      ]
     },
     "execution_count": 36,
     "metadata": {},
     "output_type": "execute_result"
    }
   ],
   "source": [
    "df_SEA = df_SEA[pd.notnull(df_SEA['CLIPPROFILE'])]\n",
    "df_SEA = df_SEA.drop(['INNERDOUBLERPROFILE', 'OUTERDOUBLERPROFILE'],axis=1)\n",
    "df_SEA.head()"
   ]
  },
  {
   "cell_type": "code",
   "execution_count": 37,
   "metadata": {},
   "outputs": [],
   "source": [
    "df = pd.merge(df_SEA,df_SEA2SE,how='left',left_on='AIRBUSSEA_FRAME',right_on='SEA').drop('SEA',axis=1)"
   ]
  },
  {
   "cell_type": "code",
   "execution_count": 38,
   "metadata": {},
   "outputs": [],
   "source": [
    "df = pd.merge(df,df_SEFR[['AIRBUSSE_FRAME', 'PROFILE0', 'OFFSETY0 (mm)', 'OFFSETZ0 (mm)']], how='left', on='AIRBUSSE_FRAME' )\n",
    "df.rename(columns={'PROFILE0': 'FRAME_PROFILE'}, inplace=True)"
   ]
  },
  {
   "cell_type": "code",
   "execution_count": 39,
   "metadata": {},
   "outputs": [
    {
     "data": {
      "text/plain": [
       "Index(['AIRBUSSEA_FRAME', 'CLIPPROFILE', 'CLIPLENGTH (mm)',\n",
       "       'CLIPPOSITIONX (mm)', 'JOINT_FRA_CLIP', 'FRA_CLIP_HEADSIDE',\n",
       "       'JOINT_FRACLIP_SKIN', 'FRACLIP_SKIN_HEADSIDE', 'LOWERSTAB',\n",
       "       'LOWERSTABPOSITIONX (mm)', 'UPPERSTAB', 'UPPERSTABPOSITIONX (mm)',\n",
       "       'AIRBUSSE_FRAME', 'FRAME_PROFILE', 'OFFSETY0 (mm)', 'OFFSETZ0 (mm)'],\n",
       "      dtype='object')"
      ]
     },
     "execution_count": 39,
     "metadata": {},
     "output_type": "execute_result"
    }
   ],
   "source": [
    "df.columns"
   ]
  },
  {
   "cell_type": "markdown",
   "metadata": {},
   "source": [
    "### Frame Metal profiles"
   ]
  },
  {
   "cell_type": "code",
   "execution_count": 40,
   "metadata": {},
   "outputs": [
    {
     "data": {
      "text/html": [
       "<div>\n",
       "<style scoped>\n",
       "    .dataframe tbody tr th:only-of-type {\n",
       "        vertical-align: middle;\n",
       "    }\n",
       "\n",
       "    .dataframe tbody tr th {\n",
       "        vertical-align: top;\n",
       "    }\n",
       "\n",
       "    .dataframe thead th {\n",
       "        text-align: right;\n",
       "    }\n",
       "</style>\n",
       "<table border=\"1\" class=\"dataframe\">\n",
       "  <thead>\n",
       "    <tr style=\"text-align: right;\">\n",
       "      <th></th>\n",
       "      <th>PROFILES NAME</th>\n",
       "      <th>MATERIAL TYPE</th>\n",
       "      <th>FAMILY</th>\n",
       "      <th>MATERIAL</th>\n",
       "      <th>BILLET (mm)</th>\n",
       "      <th>BA (mm)</th>\n",
       "      <th>BF (mm)</th>\n",
       "      <th>H (mm)</th>\n",
       "      <th>T (mm)</th>\n",
       "      <th>TW (mm)</th>\n",
       "    </tr>\n",
       "  </thead>\n",
       "  <tbody>\n",
       "    <tr>\n",
       "      <th>0</th>\n",
       "      <td>Clip_C85_P11</td>\n",
       "      <td>Metal</td>\n",
       "      <td>L</td>\n",
       "      <td>7010_T7451_Plate</td>\n",
       "      <td>105.0</td>\n",
       "      <td>105.0</td>\n",
       "      <td>0.0</td>\n",
       "      <td>98.00</td>\n",
       "      <td>0.0</td>\n",
       "      <td>3.0</td>\n",
       "    </tr>\n",
       "    <tr>\n",
       "      <th>1</th>\n",
       "      <td>Clip_C72_P24</td>\n",
       "      <td>Metal</td>\n",
       "      <td>T</td>\n",
       "      <td>7010_T7651_Plate</td>\n",
       "      <td>120.0</td>\n",
       "      <td>59.0</td>\n",
       "      <td>0.0</td>\n",
       "      <td>123.95</td>\n",
       "      <td>4.0</td>\n",
       "      <td>4.0</td>\n",
       "    </tr>\n",
       "    <tr>\n",
       "      <th>2</th>\n",
       "      <td>Clip_C73_P24</td>\n",
       "      <td>Metal</td>\n",
       "      <td>T</td>\n",
       "      <td>7010_T7651_Plate</td>\n",
       "      <td>120.0</td>\n",
       "      <td>59.0</td>\n",
       "      <td>0.0</td>\n",
       "      <td>123.95</td>\n",
       "      <td>4.0</td>\n",
       "      <td>4.0</td>\n",
       "    </tr>\n",
       "    <tr>\n",
       "      <th>3</th>\n",
       "      <td>Clip_C74_P24</td>\n",
       "      <td>Metal</td>\n",
       "      <td>T</td>\n",
       "      <td>7475_T7351_Plate</td>\n",
       "      <td>70.0</td>\n",
       "      <td>62.0</td>\n",
       "      <td>0.0</td>\n",
       "      <td>124.02</td>\n",
       "      <td>4.0</td>\n",
       "      <td>2.0</td>\n",
       "    </tr>\n",
       "    <tr>\n",
       "      <th>4</th>\n",
       "      <td>Clip_C75_P24</td>\n",
       "      <td>Metal</td>\n",
       "      <td>T</td>\n",
       "      <td>7475_T7351_Plate</td>\n",
       "      <td>70.0</td>\n",
       "      <td>62.0</td>\n",
       "      <td>0.0</td>\n",
       "      <td>124.02</td>\n",
       "      <td>4.0</td>\n",
       "      <td>2.0</td>\n",
       "    </tr>\n",
       "  </tbody>\n",
       "</table>\n",
       "</div>"
      ],
      "text/plain": [
       "  PROFILES NAME MATERIAL TYPE FAMILY          MATERIAL  BILLET (mm)  BA (mm)  \\\n",
       "0  Clip_C85_P11         Metal      L  7010_T7451_Plate        105.0    105.0   \n",
       "1  Clip_C72_P24         Metal      T  7010_T7651_Plate        120.0     59.0   \n",
       "2  Clip_C73_P24         Metal      T  7010_T7651_Plate        120.0     59.0   \n",
       "3  Clip_C74_P24         Metal      T  7475_T7351_Plate         70.0     62.0   \n",
       "4  Clip_C75_P24         Metal      T  7475_T7351_Plate         70.0     62.0   \n",
       "\n",
       "   BF (mm)  H (mm)  T (mm)  TW (mm)  \n",
       "0      0.0   98.00     0.0      3.0  \n",
       "1      0.0  123.95     4.0      4.0  \n",
       "2      0.0  123.95     4.0      4.0  \n",
       "3      0.0  124.02     4.0      2.0  \n",
       "4      0.0  124.02     4.0      2.0  "
      ]
     },
     "execution_count": 40,
     "metadata": {},
     "output_type": "execute_result"
    }
   ],
   "source": [
    "df_mp2 = df_mp.iloc[:,np.r_[0:2,3,6,7,9,13,30, 51,52,56,62]].copy()\n",
    "df_mp2['TA (mm)'] = df_mp2['TA (mm)'].fillna(df_mp2['TF (mm)'])\n",
    "df_mp2['T (mm)'] = df_mp2['T (mm)'].fillna(df_mp2['TA (mm)'])\n",
    "df_mp2.drop(['TA (mm)', 'TF (mm)'], axis=1, inplace=True)\n",
    "df_mp2.fillna(0, inplace=True)\n",
    "df_mp2.head()"
   ]
  },
  {
   "cell_type": "code",
   "execution_count": 41,
   "metadata": {},
   "outputs": [],
   "source": [
    "df2 = pd.merge(df,df_mp2,how='left', left_on='FRAME_PROFILE',right_on='PROFILES NAME').drop('PROFILES NAME',axis=1)\n"
   ]
  },
  {
   "cell_type": "code",
   "execution_count": 42,
   "metadata": {},
   "outputs": [
    {
     "data": {
      "text/plain": [
       "Index(['AIRBUSSEA_FRAME', 'CLIPPROFILE', 'CLIPLENGTH (mm)',\n",
       "       'CLIPPOSITIONX (mm)', 'JOINT_FRA_CLIP', 'FRA_CLIP_HEADSIDE',\n",
       "       'JOINT_FRACLIP_SKIN', 'FRACLIP_SKIN_HEADSIDE', 'LOWERSTAB',\n",
       "       'LOWERSTABPOSITIONX (mm)', 'UPPERSTAB', 'UPPERSTABPOSITIONX (mm)',\n",
       "       'AIRBUSSE_FRAME', 'FRAME_PROFILE', 'OFFSETY0 (mm)', 'OFFSETZ0 (mm)',\n",
       "       'MATERIAL TYPE', 'FAMILY', 'MATERIAL', 'BILLET (mm)', 'BA (mm)',\n",
       "       'BF (mm)', 'H (mm)', 'T (mm)', 'TW (mm)'],\n",
       "      dtype='object')"
      ]
     },
     "execution_count": 42,
     "metadata": {},
     "output_type": "execute_result"
    }
   ],
   "source": [
    "df2.columns"
   ]
  },
  {
   "cell_type": "markdown",
   "metadata": {},
   "source": [
    "### Frame Compo Profiles"
   ]
  },
  {
   "cell_type": "code",
   "execution_count": 43,
   "metadata": {},
   "outputs": [
    {
     "data": {
      "text/html": [
       "<div>\n",
       "<style scoped>\n",
       "    .dataframe tbody tr th:only-of-type {\n",
       "        vertical-align: middle;\n",
       "    }\n",
       "\n",
       "    .dataframe tbody tr th {\n",
       "        vertical-align: top;\n",
       "    }\n",
       "\n",
       "    .dataframe thead th {\n",
       "        text-align: right;\n",
       "    }\n",
       "</style>\n",
       "<table border=\"1\" class=\"dataframe\">\n",
       "  <thead>\n",
       "    <tr style=\"text-align: right;\">\n",
       "      <th></th>\n",
       "      <th>PROFILES NAME</th>\n",
       "      <th>MATERIAL TYPE</th>\n",
       "      <th>FAMILY</th>\n",
       "      <th>FIBER1</th>\n",
       "      <th>FIBER2</th>\n",
       "      <th>FIBER3</th>\n",
       "      <th>BA (mm)</th>\n",
       "      <th>BF (mm)</th>\n",
       "      <th>H (mm)</th>\n",
       "    </tr>\n",
       "  </thead>\n",
       "  <tbody>\n",
       "    <tr>\n",
       "      <th>0</th>\n",
       "      <td>Str-Min-1.104</td>\n",
       "      <td>Compo</td>\n",
       "      <td>Omega</td>\n",
       "      <td>S16SSLH-06F1</td>\n",
       "      <td>S16SSLH-06F1</td>\n",
       "      <td>S16SSLH-06F1</td>\n",
       "      <td>27.000</td>\n",
       "      <td>28.979882</td>\n",
       "      <td>30.278</td>\n",
       "    </tr>\n",
       "    <tr>\n",
       "      <th>1</th>\n",
       "      <td>Fra_C91P_7</td>\n",
       "      <td>Compo</td>\n",
       "      <td>Z</td>\n",
       "      <td>11707400</td>\n",
       "      <td>11707400</td>\n",
       "      <td>11707400</td>\n",
       "      <td>18.034</td>\n",
       "      <td>25.934000</td>\n",
       "      <td>80.010</td>\n",
       "    </tr>\n",
       "    <tr>\n",
       "      <th>2</th>\n",
       "      <td>Fra_C92P_7</td>\n",
       "      <td>Compo</td>\n",
       "      <td>Z</td>\n",
       "      <td>11705300</td>\n",
       "      <td>11705300</td>\n",
       "      <td>11705300</td>\n",
       "      <td>17.482</td>\n",
       "      <td>25.934000</td>\n",
       "      <td>80.000</td>\n",
       "    </tr>\n",
       "    <tr>\n",
       "      <th>3</th>\n",
       "      <td>Clip_C91_P7</td>\n",
       "      <td>Compo</td>\n",
       "      <td>L</td>\n",
       "      <td>11738014</td>\n",
       "      <td>0</td>\n",
       "      <td>0</td>\n",
       "      <td>26.360</td>\n",
       "      <td>0.000000</td>\n",
       "      <td>73.700</td>\n",
       "    </tr>\n",
       "    <tr>\n",
       "      <th>4</th>\n",
       "      <td>Clip_C92_P7</td>\n",
       "      <td>Compo</td>\n",
       "      <td>L</td>\n",
       "      <td>11738014</td>\n",
       "      <td>0</td>\n",
       "      <td>0</td>\n",
       "      <td>26.360</td>\n",
       "      <td>0.000000</td>\n",
       "      <td>73.700</td>\n",
       "    </tr>\n",
       "  </tbody>\n",
       "</table>\n",
       "</div>"
      ],
      "text/plain": [
       "   PROFILES NAME MATERIAL TYPE FAMILY        FIBER1        FIBER2  \\\n",
       "0  Str-Min-1.104         Compo  Omega  S16SSLH-06F1  S16SSLH-06F1   \n",
       "1     Fra_C91P_7         Compo      Z      11707400      11707400   \n",
       "2     Fra_C92P_7         Compo      Z      11705300      11705300   \n",
       "3    Clip_C91_P7         Compo      L      11738014             0   \n",
       "4    Clip_C92_P7         Compo      L      11738014             0   \n",
       "\n",
       "         FIBER3  BA (mm)    BF (mm)  H (mm)  \n",
       "0  S16SSLH-06F1   27.000  28.979882  30.278  \n",
       "1      11707400   18.034  25.934000  80.010  \n",
       "2      11705300   17.482  25.934000  80.000  \n",
       "3             0   26.360   0.000000  73.700  \n",
       "4             0   26.360   0.000000  73.700  "
      ]
     },
     "execution_count": 43,
     "metadata": {},
     "output_type": "execute_result"
    }
   ],
   "source": [
    "df_cp2 = df_cp.iloc[:,np.r_[0:2,3,6:9,14,19,24]].copy()\n",
    "df_cp2.fillna(0, inplace=True)\n",
    "df_cp2.head()"
   ]
  },
  {
   "cell_type": "code",
   "execution_count": 44,
   "metadata": {},
   "outputs": [],
   "source": [
    "df3 = pd.merge(df2,df_cp2,how='left', left_on='FRAME_PROFILE',right_on='PROFILES NAME').drop('PROFILES NAME',axis=1)\n",
    "merge = ['MATERIAL TYPE', 'FAMILY', 'BA (mm)', 'BF (mm)', 'H (mm)']\n",
    "for m in merge:\n",
    "    df3[m] = df3[m+'_y'].fillna(df3[m+'_x'])\n",
    "    df3.drop([m+'_x', m+'_y'], axis=1, inplace=True)"
   ]
  },
  {
   "cell_type": "code",
   "execution_count": 45,
   "metadata": {},
   "outputs": [
    {
     "data": {
      "text/plain": [
       "Index(['AIRBUSSEA_FRAME', 'CLIPPROFILE', 'CLIPLENGTH (mm)',\n",
       "       'CLIPPOSITIONX (mm)', 'JOINT_FRA_CLIP', 'FRA_CLIP_HEADSIDE',\n",
       "       'JOINT_FRACLIP_SKIN', 'FRACLIP_SKIN_HEADSIDE', 'LOWERSTAB',\n",
       "       'LOWERSTABPOSITIONX (mm)', 'UPPERSTAB', 'UPPERSTABPOSITIONX (mm)',\n",
       "       'AIRBUSSE_FRAME', 'FRAME_PROFILE', 'OFFSETY0 (mm)', 'OFFSETZ0 (mm)',\n",
       "       'MATERIAL_frame', 'BILLET (mm)_frame', 'T (mm)_frame', 'TW (mm)_frame',\n",
       "       'FIBER1_frame', 'FIBER2_frame', 'FIBER3_frame', 'MATERIAL TYPE_frame',\n",
       "       'FAMILY_frame', 'BA (mm)_frame', 'BF (mm)_frame', 'H (mm)_frame'],\n",
       "      dtype='object')"
      ]
     },
     "execution_count": 45,
     "metadata": {},
     "output_type": "execute_result"
    }
   ],
   "source": [
    "cols = ['MATERIAL', 'BILLET (mm)', 'T (mm)', 'TW (mm)', 'FIBER1', 'FIBER2',\n",
    "        'FIBER3', 'MATERIAL TYPE', 'FAMILY', 'BA (mm)', 'BF (mm)', 'H (mm)']\n",
    "cols1 = [col + \"_frame\" for col in cols]\n",
    "cols2 = [col + \"_clip\" for col in cols]\n",
    "\n",
    "df3.rename(columns = dict(zip(cols, cols1)), inplace=True)\n",
    "df3.columns"
   ]
  },
  {
   "cell_type": "markdown",
   "metadata": {},
   "source": [
    "### Clip profiles"
   ]
  },
  {
   "cell_type": "code",
   "execution_count": 46,
   "metadata": {},
   "outputs": [
    {
     "data": {
      "text/plain": [
       "Index(['AIRBUSSEA_FRAME', 'CLIPPROFILE', 'CLIPLENGTH (mm)',\n",
       "       'CLIPPOSITIONX (mm)', 'JOINT_FRA_CLIP', 'FRA_CLIP_HEADSIDE',\n",
       "       'JOINT_FRACLIP_SKIN', 'FRACLIP_SKIN_HEADSIDE', 'LOWERSTAB',\n",
       "       'LOWERSTABPOSITIONX (mm)', 'UPPERSTAB', 'UPPERSTABPOSITIONX (mm)',\n",
       "       'AIRBUSSE_FRAME', 'FRAME_PROFILE', 'OFFSETY0 (mm)', 'OFFSETZ0 (mm)',\n",
       "       'MATERIAL_frame', 'BILLET (mm)_frame', 'T (mm)_frame', 'TW (mm)_frame',\n",
       "       'FIBER1_frame', 'FIBER2_frame', 'FIBER3_frame', 'MATERIAL TYPE_frame',\n",
       "       'FAMILY_frame', 'BA (mm)_frame', 'BF (mm)_frame', 'H (mm)_frame',\n",
       "       'MATERIAL_clip', 'BILLET (mm)_clip', 'T (mm)_clip', 'TW (mm)_clip',\n",
       "       'FIBER1_clip', 'FIBER2_clip', 'FIBER3_clip', 'MATERIAL TYPE_clip',\n",
       "       'FAMILY_clip', 'BA (mm)_clip', 'BF (mm)_clip', 'H (mm)_clip'],\n",
       "      dtype='object')"
      ]
     },
     "execution_count": 46,
     "metadata": {},
     "output_type": "execute_result"
    }
   ],
   "source": [
    "df4 = pd.merge(df3,df_mp2,how='left', left_on='CLIPPROFILE',right_on='PROFILES NAME').drop('PROFILES NAME',axis=1)\n",
    "df5 = pd.merge(df4,df_cp2,how='left', left_on='CLIPPROFILE',right_on='PROFILES NAME').drop('PROFILES NAME',axis=1)\n",
    "merge = ['MATERIAL TYPE', 'FAMILY', 'BA (mm)', 'BF (mm)', 'H (mm)']\n",
    "for m in merge:\n",
    "    df5[m] = df5[m+'_y'].fillna(df5[m+'_x'])\n",
    "    df5.drop([m+'_x', m+'_y'], axis=1, inplace=True)\n",
    "\n",
    "df5.rename(columns = dict(zip(cols, cols2)), inplace=True)\n",
    "df5.columns"
   ]
  },
  {
   "cell_type": "markdown",
   "metadata": {},
   "source": [
    "### Stacking"
   ]
  },
  {
   "cell_type": "code",
   "execution_count": 47,
   "metadata": {},
   "outputs": [],
   "source": [
    "#df_st.iloc[1,3:].value_counts()\n",
    "df_st2 = df_st.iloc[:,3:]\n",
    "df_st2 = pd.concat([df_st,df_st2.apply(pd.value_counts, axis = 1)],axis=1)\n",
    "df_st2.columns = df_st2.columns.map(str)\n",
    "df_st2 = df_st2.drop(['-30.0', '-15.0', '30.0', '15.0'],axis=1)\n",
    "df_st2['STACKING'] = df_st2['STACKING LABEL'].str.split('_').str[0]\n",
    "df_st2 = (df_st2[['-45.0', '0.0','45.0', '90.0', 'STACKING']]).copy()"
   ]
  },
  {
   "cell_type": "code",
   "execution_count": 48,
   "metadata": {},
   "outputs": [
    {
     "data": {
      "text/plain": [
       "Index(['AIRBUSSEA_FRAME', 'CLIPPROFILE', 'CLIPLENGTH (mm)',\n",
       "       'CLIPPOSITIONX (mm)', 'JOINT_FRA_CLIP', 'FRA_CLIP_HEADSIDE',\n",
       "       'JOINT_FRACLIP_SKIN', 'FRACLIP_SKIN_HEADSIDE', 'LOWERSTAB',\n",
       "       'LOWERSTABPOSITIONX (mm)', 'UPPERSTAB', 'UPPERSTABPOSITIONX (mm)',\n",
       "       'AIRBUSSE_FRAME', 'FRAME_PROFILE', 'OFFSETY0 (mm)', 'OFFSETZ0 (mm)',\n",
       "       'MATERIAL_frame', 'BILLET (mm)_frame', 'T (mm)_frame', 'TW (mm)_frame',\n",
       "       'FIBER1_frame', 'FIBER2_frame', 'FIBER3_frame', 'MATERIAL TYPE_frame',\n",
       "       'FAMILY_frame', 'BA (mm)_frame', 'BF (mm)_frame', 'H (mm)_frame',\n",
       "       'MATERIAL_clip', 'BILLET (mm)_clip', 'T (mm)_clip', 'TW (mm)_clip',\n",
       "       'FIBER1_clip', 'FIBER2_clip', 'FIBER3_clip', 'MATERIAL TYPE_clip',\n",
       "       'FAMILY_clip', 'BA (mm)_clip', 'BF (mm)_clip', 'H (mm)_clip',\n",
       "       '-45.0_frame', '0.0_frame', '45.0_frame', '90.0_frame', '-45.0_clip',\n",
       "       '0.0_clip', '45.0_clip', '90.0_clip', 'SEA_MSN216'],\n",
       "      dtype='object')"
      ]
     },
     "execution_count": 48,
     "metadata": {},
     "output_type": "execute_result"
    }
   ],
   "source": [
    "df6 = pd.merge(df5,df_st2,how='left',left_on='FIBER1_frame',right_on='STACKING').drop(['STACKING'],axis=1)\n",
    "df7 = pd.merge(df6,df_st2,how='left',left_on='FIBER1_clip',right_on='STACKING', suffixes=['_frame','_clip']).drop(['STACKING'],axis=1)\n",
    "stackings = ['-45.0_frame', '0.0_frame', '45.0_frame', '90.0_frame', '-45.0_clip',\n",
    "             '0.0_clip', '45.0_clip', '90.0_clip']\n",
    "df7[stackings] = df7[stackings].fillna(0)\n",
    "df7['SEA_MSN216'] = df7['AIRBUSSEA_FRAME'].str.replace(r'-Fra','')\n",
    "df7 = df7[pd.notnull(df7['FRAME_PROFILE'])]\n",
    "df7.columns"
   ]
  },
  {
   "cell_type": "code",
   "execution_count": null,
   "metadata": {},
   "outputs": [],
   "source": [
    "#fill na\n",
    "fills = ['T (mm)_frame', 'TW (mm)_frame', 'T (mm)_clip', 'TW (mm)_clip']\n",
    "df7[fills] = df7[fills].fillna(0)"
   ]
  },
  {
   "cell_type": "code",
   "execution_count": 49,
   "metadata": {},
   "outputs": [],
   "source": [
    "if not os.path.exists(folder_out):\n",
    "    os.mkdir(folder_out)\n",
    "df7.to_pickle(folder_out+'/' +'df_'+name + '_geo.pkl')\n",
    "df7.to_csv(folder_out+'/' +'df_'+name + '_geo.csv')"
   ]
  },
  {
   "cell_type": "code",
   "execution_count": null,
   "metadata": {},
   "outputs": [],
   "source": []
  }
 ],
 "metadata": {
  "kernelspec": {
   "display_name": "Python 3",
   "language": "python",
   "name": "python3"
  },
  "language_info": {
   "codemirror_mode": {
    "name": "ipython",
    "version": 3
   },
   "file_extension": ".py",
   "mimetype": "text/x-python",
   "name": "python",
   "nbconvert_exporter": "python",
   "pygments_lexer": "ipython3",
   "version": "3.7.0"
  }
 },
 "nbformat": 4,
 "nbformat_minor": 2
}
