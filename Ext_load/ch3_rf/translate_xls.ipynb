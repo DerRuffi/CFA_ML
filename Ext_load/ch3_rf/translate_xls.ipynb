{
 "cells": [
  {
   "cell_type": "code",
   "execution_count": 8,
   "metadata": {},
   "outputs": [],
   "source": [
    "import pandas as pd"
   ]
  },
  {
   "cell_type": "code",
   "execution_count": 118,
   "metadata": {},
   "outputs": [
    {
     "data": {
      "text/plain": [
       "(2415, 17)"
      ]
     },
     "execution_count": 118,
     "metadata": {},
     "output_type": "execute_result"
    }
   ],
   "source": [
    "df = pd.read_excel('A350_FAF_Stress_Summary_Database_-1000_v1.1.xlsx')\n",
    "df.shape"
   ]
  },
  {
   "cell_type": "code",
   "execution_count": 119,
   "metadata": {},
   "outputs": [
    {
     "data": {
      "text/plain": [
       "Index(['REPORT NAME', 'SECTION', 'REPORT REF.', 'Iss.', 'TABLE', 'TABLE NAME',\n",
       "       'PAGE', 'PART NUMBER', 'DESCRIPTION', 'MATERIAL', 'LOAD CASE',\n",
       "       'STRESS1 STRAIN1 FORCE1', 'APPLIED VALUE2', 'KIND OF LOADING3',\n",
       "       'ALLOWABLE VALUE2', 'RF', 'REMARKS'],\n",
       "      dtype='object')"
      ]
     },
     "execution_count": 119,
     "metadata": {},
     "output_type": "execute_result"
    }
   ],
   "source": [
    "df.columns"
   ]
  },
  {
   "cell_type": "code",
   "execution_count": 120,
   "metadata": {},
   "outputs": [
    {
     "data": {
      "text/plain": [
       "(1887, 9)"
      ]
     },
     "execution_count": 120,
     "metadata": {},
     "output_type": "execute_result"
    }
   ],
   "source": [
    "df= df[['REPORT NAME', 'SECTION', 'REPORT REF.', 'Iss.','DESCRIPTION', 'MATERIAL', 'LOAD CASE','RF', 'REMARKS']]\n",
    "#df['LOAD CASE'] = df['LOAD CASE'].astype(str)\n",
    "#df['RF'] = df['RF'].astype(str)\n",
    "df = df.astype(str).copy()\n",
    "\n",
    "df= df.loc[~df.RF.isin(['>2','>2.00', '> 2', '>2.0'])].copy()\n",
    "df['RF'] = df['RF'].str.replace(r'\\*+', '').str.replace(r'(', '').str.replace(r')', '').str.replace(r'\\[.*', '')\n",
    "df.loc[df['RF'].str.contains(r'\\n.*\\n.*'),'RF'] = df.loc[df['RF'].str.contains(r'\\n.*\\n.*')].RF.str.replace(r'>', '').str.split('\\n').apply(lambda x: min(x))\n",
    "df = df.loc[~df['RF'].str.contains(r'>')].copy()\n",
    "df = df.loc[~df['RF'].str.contains(r'-')].copy()\n",
    "df['RF'] = df['RF'].astype(float)\n",
    "df.shape"
   ]
  },
  {
   "cell_type": "code",
   "execution_count": 128,
   "metadata": {},
   "outputs": [],
   "source": [
    "df['LOAD CASE'] = df['LOAD CASE'].str.replace('\\n', '').str.replace(' ', '')"
   ]
  },
  {
   "cell_type": "code",
   "execution_count": 143,
   "metadata": {},
   "outputs": [],
   "source": [
    "df['LOADCASE_10dig'] = df['LOAD CASE'].str.extract(r'([A-Z]{3}[A-Z0-9\\-][A-Z0-9]{6})')\n",
    "df['LOADCASE_5dig'] = df['LOAD CASE'].str.extract(r'((SC.?|LC.?)[0-9]{5}|^[0-9]{5}$)')"
   ]
  },
  {
   "cell_type": "code",
   "execution_count": 144,
   "metadata": {},
   "outputs": [],
   "source": [
    "df.to_csv('out.csv')"
   ]
  },
  {
   "cell_type": "code",
   "execution_count": null,
   "metadata": {},
   "outputs": [],
   "source": []
  },
  {
   "cell_type": "code",
   "execution_count": null,
   "metadata": {},
   "outputs": [],
   "source": []
  }
 ],
 "metadata": {
  "kernelspec": {
   "display_name": "Python 3",
   "language": "python",
   "name": "python3"
  },
  "language_info": {
   "codemirror_mode": {
    "name": "ipython",
    "version": 3
   },
   "file_extension": ".py",
   "mimetype": "text/x-python",
   "name": "python",
   "nbconvert_exporter": "python",
   "pygments_lexer": "ipython3",
   "version": "3.6.6"
  }
 },
 "nbformat": 4,
 "nbformat_minor": 2
}
